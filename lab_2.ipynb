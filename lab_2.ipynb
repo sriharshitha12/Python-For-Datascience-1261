{
  "nbformat": 4,
  "nbformat_minor": 0,
  "metadata": {
    "colab": {
      "provenance": [],
      "authorship_tag": "ABX9TyPi0H/MgrXHLOq4coxlq54s",
      "include_colab_link": true
    },
    "kernelspec": {
      "name": "python3",
      "display_name": "Python 3"
    },
    "language_info": {
      "name": "python"
    }
  },
  "cells": [
    {
      "cell_type": "markdown",
      "metadata": {
        "id": "view-in-github",
        "colab_type": "text"
      },
      "source": [
        "<a href=\"https://colab.research.google.com/github/sriharshitha12/Python-For-Datascience-1261/blob/main/lab_2.ipynb\" target=\"_parent\"><img src=\"https://colab.research.google.com/assets/colab-badge.svg\" alt=\"Open In Colab\"/></a>"
      ]
    },
    {
      "cell_type": "code",
      "execution_count": 1,
      "metadata": {
        "colab": {
          "base_uri": "https://localhost:8080/"
        },
        "id": "7uDVGWvk5bOh",
        "outputId": "2bb6f546-194e-4720-ff6b-f53dd193ceb4"
      },
      "outputs": [
        {
          "output_type": "stream",
          "name": "stdout",
          "text": [
            "[[14 80 15]\n",
            " [15 52  5]\n",
            " [71 73 58]\n",
            " [39 32 88]\n",
            " [77 79 44]\n",
            " [77 13  1]\n",
            " [45  6 16]\n",
            " [ 1  3 94]\n",
            " [73 78 37]\n",
            " [36  5 55]]\n"
          ]
        }
      ],
      "source": [
        "import numpy as np\n",
        "student_marks = np.random.randint(0, 101, size=(10, 3))\n",
        "print(student_marks)\n",
        "\n",
        ""
      ]
    },
    {
      "cell_type": "code",
      "source": [
        "overall_average = np.mean(student_marks)\n",
        "overall_minimum = np.min(student_marks)\n",
        "overall_maximum = np.max(student_marks)\n",
        "print(f\"Overall Average Mark: {overall_average:.2f}\")\n",
        "print(f\"Overall Minimum Mark: {overall_minimum}\")\n",
        "print(f\"Overall Maximum Mark: {overall_maximum}\")\n",
        ""
      ],
      "metadata": {
        "colab": {
          "base_uri": "https://localhost:8080/"
        },
        "id": "7EvVPqaH5_lB",
        "outputId": "1e96eb80-2fa8-429f-a177-51a24ff49a83"
      },
      "execution_count": 6,
      "outputs": [
        {
          "output_type": "stream",
          "name": "stdout",
          "text": [
            "Overall Average Mark: 55.07\n",
            "Overall Minimum Mark: 7\n",
            "Overall Maximum Mark: 93\n"
          ]
        }
      ]
    },
    {
      "cell_type": "code",
      "source": [
        "first_three=student_marks[:3, :]\n",
        "print(\"Marks of the first three students:\")\n",
        "print(first_three)\n",
        "student_at_index_5_marks = student_marks[5, :]\n",
        "print(\"\\nMarks of the student at index 5:\")\n",
        "print(student_at_index_5_marks)"
      ],
      "metadata": {
        "colab": {
          "base_uri": "https://localhost:8080/"
        },
        "id": "Btblmfdg6Ed7",
        "outputId": "66c6fd1c-9bd8-4cd5-e665-32cb22fd3c07"
      },
      "execution_count": 8,
      "outputs": [
        {
          "output_type": "stream",
          "name": "stdout",
          "text": [
            "Marks of the first three students:\n",
            "[[29 91 48]\n",
            " [67 84 39]\n",
            " [93 53 88]]\n",
            "\n",
            "Marks of the student at index 5:\n",
            "[43 10 89]\n"
          ]
        }
      ]
    },
    {
      "cell_type": "code",
      "source": [
        "high_scoring_students = student_marks[np.any(student_marks > 80, axis=1)]\n",
        "\n",
        "print(\"\\nStudents scoring above 80 in at least one subject:\")\n",
        "print(high_scoring_students)"
      ],
      "metadata": {
        "colab": {
          "base_uri": "https://localhost:8080/"
        },
        "id": "eG0wVofR6RjZ",
        "outputId": "48c18345-b472-4e84-e4c5-78ed7db18660"
      },
      "execution_count": 11,
      "outputs": [
        {
          "output_type": "stream",
          "name": "stdout",
          "text": [
            "\n",
            "Students scoring above 80 in at least one subject:\n",
            "[[29 91 48]\n",
            " [67 84 39]\n",
            " [93 53 88]\n",
            " [54 92 78]\n",
            " [43 10 89]\n",
            " [46 92 92]]\n"
          ]
        }
      ]
    },
    {
      "cell_type": "code",
      "source": [
        "subject_wise_marks = student_marks.T\n",
        "\n",
        "print(\"\\nSubject-wise Marks Array (transposed):\")\n",
        "print(subject_wise_marks)\n",
        "subject_average_marks = np.mean(subject_wise_marks, axis=1)\n",
        "subject_minimum_marks = np.min(subject_wise_marks, axis=1)\n",
        "subject_maximum_marks = np.max(subject_wise_marks, axis=1)\n",
        "\n",
        "print(\"\\nSubject-wise Average Marks:\")\n",
        "print(subject_average_marks)\n",
        "\n",
        "print(\"\\nSubject-wise Minimum Marks:\")\n",
        "print(subject_minimum_marks)\n",
        "\n",
        "print(\"\\nSubject-wise Maximum Marks:\")\n",
        "print(subject_maximum_marks)"
      ],
      "metadata": {
        "colab": {
          "base_uri": "https://localhost:8080/"
        },
        "id": "qNoNTwB56ZT5",
        "outputId": "8a8c5bba-0af2-4ecf-b7d9-a8b6063accec"
      },
      "execution_count": 12,
      "outputs": [
        {
          "output_type": "stream",
          "name": "stdout",
          "text": [
            "\n",
            "Subject-wise Marks Array (transposed):\n",
            "[[29 67 93 65 54 43 69 46 11 49]\n",
            " [91 84 53  8 92 10  7 92 26 71]\n",
            " [48 39 88 23 78 89 33 92 71 31]]\n",
            "\n",
            "Subject-wise Average Marks:\n",
            "[52.6 53.4 59.2]\n",
            "\n",
            "Subject-wise Minimum Marks:\n",
            "[11  7 23]\n",
            "\n",
            "Subject-wise Maximum Marks:\n",
            "[93 92 92]\n"
          ]
        }
      ]
    }
  ]
}