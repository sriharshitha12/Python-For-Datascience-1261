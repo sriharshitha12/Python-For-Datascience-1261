{
  "nbformat": 4,
  "nbformat_minor": 0,
  "metadata": {
    "colab": {
      "provenance": [],
      "authorship_tag": "ABX9TyPVx+f4ZNiesVdizlXDkETt",
      "include_colab_link": true
    },
    "kernelspec": {
      "name": "python3",
      "display_name": "Python 3"
    },
    "language_info": {
      "name": "python"
    }
  },
  "cells": [
    {
      "cell_type": "markdown",
      "metadata": {
        "id": "view-in-github",
        "colab_type": "text"
      },
      "source": [
        "<a href=\"https://colab.research.google.com/github/sriharshitha12/Python-For-Datascience-1261/blob/main/psd_lab4.ipynb\" target=\"_parent\"><img src=\"https://colab.research.google.com/assets/colab-badge.svg\" alt=\"Open In Colab\"/></a>"
      ]
    },
    {
      "cell_type": "code",
      "execution_count": 2,
      "metadata": {
        "colab": {
          "base_uri": "https://localhost:8080/"
        },
        "id": "DAPqh2-17tJ8",
        "outputId": "63664ef9-4c99-41ae-fb3c-af597596843e"
      },
      "outputs": [
        {
          "output_type": "stream",
          "name": "stdout",
          "text": [
            "Pandas Series:\n",
            "0    10\n",
            "1    20\n",
            "2    30\n",
            "3    40\n",
            "4    50\n",
            "dtype: int64\n"
          ]
        }
      ],
      "source": [
        "import pandas as pd\n",
        "data =[10,20,30,40,50]\n",
        "series=pd.Series(data)\n",
        "\n",
        "print(\"Pandas Series:\")\n",
        "print(series)"
      ]
    },
    {
      "cell_type": "code",
      "source": [
        "import pandas as pd\n",
        "data=[10,20,30,40,50]\n",
        "index_labels=['a','b','c','d','e']\n",
        "series=pd.Series(data,index=index_labels)\n",
        "print(series)"
      ],
      "metadata": {
        "colab": {
          "base_uri": "https://localhost:8080/"
        },
        "id": "HD8Y_qkA8j90",
        "outputId": "3c18e93c-42e4-4d7a-b443-b9a4ab1d948b"
      },
      "execution_count": 3,
      "outputs": [
        {
          "output_type": "stream",
          "name": "stdout",
          "text": [
            "a    10\n",
            "b    20\n",
            "c    30\n",
            "d    40\n",
            "e    50\n",
            "dtype: int64\n"
          ]
        }
      ]
    },
    {
      "cell_type": "code",
      "source": [
        "import pandas as pd\n",
        "\n",
        "data={\n",
        "    'Name':['Alice','Bob','Charlie','David'],\n",
        "    'Age':[25,30,35,40],\n",
        "    'City':['Hyderabad','Delhi','Chennai','Mumbai']\n",
        "}\n",
        "\n",
        "df=pd.DataFrame(data)\n",
        "\n",
        "print(\"Pandas DataFrame:\")\n",
        "print(df)"
      ],
      "metadata": {
        "colab": {
          "base_uri": "https://localhost:8080/"
        },
        "id": "0T2E6q9_9qqm",
        "outputId": "c9e8bb96-0358-448a-cc1b-55d06bf5e8e8"
      },
      "execution_count": 4,
      "outputs": [
        {
          "output_type": "stream",
          "name": "stdout",
          "text": [
            "Pandas DataFrame:\n",
            "      Name  Age       City\n",
            "0    Alice   25  Hyderabad\n",
            "1      Bob   30      Delhi\n",
            "2  Charlie   35    Chennai\n",
            "3    David   40     Mumbai\n"
          ]
        }
      ]
    },
    {
      "cell_type": "code",
      "source": [
        "print(df['Name'])"
      ],
      "metadata": {
        "colab": {
          "base_uri": "https://localhost:8080/"
        },
        "id": "88gPwdWR_Uuq",
        "outputId": "51f604c1-511e-4f61-bc6b-a75e905af616"
      },
      "execution_count": 7,
      "outputs": [
        {
          "output_type": "stream",
          "name": "stdout",
          "text": [
            "0      Alice\n",
            "1        Bob\n",
            "2    Charlie\n",
            "3      David\n",
            "Name: Name, dtype: object\n"
          ]
        }
      ]
    },
    {
      "cell_type": "code",
      "source": [
        "#Access a single columns\n",
        "print(df[['Name','City']])"
      ],
      "metadata": {
        "colab": {
          "base_uri": "https://localhost:8080/"
        },
        "id": "9ke7jBDu-sUf",
        "outputId": "dccb3df0-3f9a-480c-d2de-9de551142dac"
      },
      "execution_count": 5,
      "outputs": [
        {
          "output_type": "stream",
          "name": "stdout",
          "text": [
            "      Name       City\n",
            "0    Alice  Hyderabad\n",
            "1      Bob      Delhi\n",
            "2  Charlie    Chennai\n",
            "3    David     Mumbai\n"
          ]
        }
      ]
    },
    {
      "cell_type": "code",
      "source": [
        "print(df.iloc[1])\n",
        "print(df.loc[2])"
      ],
      "metadata": {
        "colab": {
          "base_uri": "https://localhost:8080/"
        },
        "id": "ReAFrS7i_NwN",
        "outputId": "df846ca9-84c6-48cb-bae0-11a2f5d59db5"
      },
      "execution_count": 8,
      "outputs": [
        {
          "output_type": "stream",
          "name": "stdout",
          "text": [
            "Name      Bob\n",
            "Age        30\n",
            "City    Delhi\n",
            "Name: 1, dtype: object\n",
            "Name    Charlie\n",
            "Age          35\n",
            "City    Chennai\n",
            "Name: 2, dtype: object\n"
          ]
        }
      ]
    },
    {
      "cell_type": "code",
      "source": [
        "df['Salary']=[40000,50000,60000,70000]\n",
        "print(df)"
      ],
      "metadata": {
        "colab": {
          "base_uri": "https://localhost:8080/"
        },
        "id": "Tvk_-ZBZ_mEc",
        "outputId": "c0873f4a-d781-4cb2-86bc-289872279b84"
      },
      "execution_count": 9,
      "outputs": [
        {
          "output_type": "stream",
          "name": "stdout",
          "text": [
            "      Name  Age       City  Salary\n",
            "0    Alice   25  Hyderabad   40000\n",
            "1      Bob   30      Delhi   50000\n",
            "2  Charlie   35    Chennai   60000\n",
            "3    David   40     Mumbai   70000\n"
          ]
        }
      ]
    },
    {
      "cell_type": "code",
      "source": [
        "# df=df.drop('City',axis=1) # This line caused an error because 'City' was already dropped\n",
        "print(df)"
      ],
      "metadata": {
        "colab": {
          "base_uri": "https://localhost:8080/"
        },
        "id": "bA2uS7ml_xXv",
        "outputId": "8d998bb0-c160-4f7d-d1d8-39af3e0270be"
      },
      "execution_count": 18,
      "outputs": [
        {
          "output_type": "stream",
          "name": "stdout",
          "text": [
            "      Name  Age  Salary\n",
            "0    Alice   25   40000\n",
            "1      Bob   30   50000\n",
            "2  Charlie   35   60000\n",
            "3    David   40   70000\n"
          ]
        }
      ]
    },
    {
      "cell_type": "code",
      "source": [
        "print(df[df['Age']>30])"
      ],
      "metadata": {
        "colab": {
          "base_uri": "https://localhost:8080/"
        },
        "id": "j6GcwJ38BBVY",
        "outputId": "4ef0a2b8-fe62-4d70-e4fc-5948dbd999e1"
      },
      "execution_count": 13,
      "outputs": [
        {
          "output_type": "stream",
          "name": "stdout",
          "text": [
            "      Name  Age  Salary\n",
            "2  Charlie   35   60000\n",
            "3    David   40   70000\n"
          ]
        }
      ]
    },
    {
      "cell_type": "code",
      "source": [
        "print(df['Age'].mean())\n",
        "print(df['Age'].max())\n",
        "print(df['Age'].min())"
      ],
      "metadata": {
        "colab": {
          "base_uri": "https://localhost:8080/"
        },
        "id": "0ayMrrp1BQEm",
        "outputId": "cceef40e-a46d-45e3-bf52-beb526de6125"
      },
      "execution_count": 14,
      "outputs": [
        {
          "output_type": "stream",
          "name": "stdout",
          "text": [
            "32.5\n",
            "40\n",
            "25\n"
          ]
        }
      ]
    },
    {
      "cell_type": "code",
      "source": [
        "student_data={\n",
        "    'Student_ID':[101,102,103,104],\n",
        "    'Name':['Ravi','Neha','Kiran','Sita'],\n",
        "    'Marks':[85,90,78,92],\n",
        "    'Department':['CSE','ECE','MECH','CSE']\n",
        "}\n",
        "\n",
        "df = pd.DataFrame(student_data)\n",
        "\n",
        "print(\"Student Data.\")\n",
        "print(df)"
      ],
      "metadata": {
        "colab": {
          "base_uri": "https://localhost:8080/"
        },
        "id": "VoXdrna-CEEj",
        "outputId": "68e266f9-5625-4417-abcb-5ff9e3838c5b"
      },
      "execution_count": 20,
      "outputs": [
        {
          "output_type": "stream",
          "name": "stdout",
          "text": [
            "Student Data.\n",
            "   Student_ID   Name  Marks Department\n",
            "0         101   Ravi     85        CSE\n",
            "1         102   Neha     90        ECE\n",
            "2         103  Kiran     78       MECH\n",
            "3         104   Sita     92        CSE\n"
          ]
        }
      ]
    },
    {
      "cell_type": "code",
      "source": [
        "print(\"\\nStudents with Marks>80.\")\n",
        "print(df[df[\"Marks\"]>80])"
      ],
      "metadata": {
        "colab": {
          "base_uri": "https://localhost:8080/"
        },
        "id": "Gg031AyCD5Ap",
        "outputId": "ca8facdc-430d-4589-9adc-f9d5b61172a6"
      },
      "execution_count": 21,
      "outputs": [
        {
          "output_type": "stream",
          "name": "stdout",
          "text": [
            "\n",
            "Students with Marks>80.\n",
            "   Student_ID  Name  Marks Department\n",
            "0         101  Ravi     85        CSE\n",
            "1         102  Neha     90        ECE\n",
            "3         104  Sita     92        CSE\n"
          ]
        }
      ]
    },
    {
      "cell_type": "code",
      "source": [
        "print(\"\\nAverage Marks:\", df['Marks'].mean())"
      ],
      "metadata": {
        "colab": {
          "base_uri": "https://localhost:8080/"
        },
        "id": "n-x0B6xsEHGO",
        "outputId": "01123811-519c-4e7c-aebd-201b1f6cdd14"
      },
      "execution_count": 23,
      "outputs": [
        {
          "output_type": "stream",
          "name": "stdout",
          "text": [
            "\n",
            "Average Marks: 86.25\n"
          ]
        }
      ]
    },
    {
      "cell_type": "code",
      "source": [
        "df['Result']=['Pass'if x>=40 else 'Fail'for x in df['Marks']]\n",
        "print(\"\\nWith Result Column.\")\n",
        "print(df)"
      ],
      "metadata": {
        "colab": {
          "base_uri": "https://localhost:8080/"
        },
        "id": "UognGD6zEnR-",
        "outputId": "cd16aaec-8cb3-4dd6-802d-a51503377f5d"
      },
      "execution_count": 24,
      "outputs": [
        {
          "output_type": "stream",
          "name": "stdout",
          "text": [
            "\n",
            "With Result Column.\n",
            "   Student_ID   Name  Marks Department Result\n",
            "0         101   Ravi     85        CSE   Pass\n",
            "1         102   Neha     90        ECE   Pass\n",
            "2         103  Kiran     78       MECH   Pass\n",
            "3         104   Sita     92        CSE   Pass\n"
          ]
        }
      ]
    }
  ]
}